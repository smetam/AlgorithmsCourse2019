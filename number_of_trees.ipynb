{
 "cells": [
  {
   "cell_type": "markdown",
   "metadata": {},
   "source": [
    "## Rooted trees"
   ]
  },
  {
   "cell_type": "markdown",
   "metadata": {},
   "source": [
    "| n | #trees  |\n",
    "|---|----|\n",
    "| 1 | 1  |\n",
    "| 2 | 1  |\n",
    "| 3 | 3  |\n",
    "| 4 | 15 |"
   ]
  },
  {
   "cell_type": "markdown",
   "metadata": {},
   "source": [
    "Пусть для n листьев существует $$T_n$$ деревьев, тогда посчитаем количество деревьев для n+1 листьев.\n"
   ]
  },
  {
   "cell_type": "markdown",
   "metadata": {},
   "source": [
    "Так как количество узлов на один меньше числа листьев, то у нас появится только 1 новый узел.\n",
    "    Остается только узнать, где он может находиться. Мы можем разместить этот узел либо вместо старого листа, либо в месте старого узла(как бы сдвигая его ниже). Этот старый узел становится листом нового."
   ]
  },
  {
   "cell_type": "markdown",
   "metadata": {},
   "source": [
    "![](images/tree-2.png)"
   ]
  },
  {
   "cell_type": "markdown",
   "metadata": {},
   "source": [
    "Те для каждого дерева с n листьями мы можем построить  n (количество листов)  + n - 1(количество узлов) деревьев с n + 1 листьями. Т.е.: $$T_{n+1} = T_n * (2n - 1)$$"
   ]
  },
  {
   "cell_type": "markdown",
   "metadata": {},
   "source": [
    "Тогда получаем окончательную формулу: $$ T_{n+1} = \\prod_{k=1}^{n} 2k-1 = (2n-1)!!$$ "
   ]
  },
  {
   "cell_type": "markdown",
   "metadata": {},
   "source": [
    "## Unrooted trees\n"
   ]
  },
  {
   "cell_type": "markdown",
   "metadata": {},
   "source": [
    "Количество неукорененных деревьев можно вычислить из числа укорененных, так как каждому неукорененному дереву с n листьями соответствует 2n - 3  укоренненых (по количеству ребер), так как мы могли бы добавить корень в любом из его ребер, превратив это дерево в укорененное."
   ]
  },
  {
   "cell_type": "markdown",
   "metadata": {},
   "source": [
    "![](images/unrooted_tree.png)"
   ]
  },
  {
   "cell_type": "markdown",
   "metadata": {},
   "source": [
    "То есть количество неукорененных деревьев: $$Y_{n+1} = \\frac{T_{n+1}}{(2*(n+1) - 3)} = \\frac{(2n-1)!!}{2n-1} = (2n-3)!! $$"
   ]
  },
  {
   "cell_type": "markdown",
   "metadata": {},
   "source": [
    "# Итоговые результаты"
   ]
  },
  {
   "cell_type": "markdown",
   "metadata": {},
   "source": [
    "| type of a tree | rooted | unrooted |\n",
    "|--------|---|----|\n",
    "| number of trees with n leaves | (2n - 3)!! | (2n - 5)!! |"
   ]
  },
  {
   "cell_type": "code",
   "execution_count": null,
   "metadata": {},
   "outputs": [],
   "source": []
  }
 ],
 "metadata": {
  "kernelspec": {
   "display_name": "Python 3",
   "language": "python",
   "name": "python3"
  },
  "language_info": {
   "codemirror_mode": {
    "name": "ipython",
    "version": 3
   },
   "file_extension": ".py",
   "mimetype": "text/x-python",
   "name": "python",
   "nbconvert_exporter": "python",
   "pygments_lexer": "ipython3",
   "version": "3.7.0"
  }
 },
 "nbformat": 4,
 "nbformat_minor": 2
}
