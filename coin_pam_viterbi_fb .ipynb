{
 "cells": [
  {
   "cell_type": "markdown",
   "metadata": {},
   "source": [
    "# Coin"
   ]
  },
  {
   "cell_type": "markdown",
   "metadata": {},
   "source": [
    "A - монета неправильная\n",
    "\n",
    "Bn - выпало n орлов\n",
    "$$P(A|B_n) = \\frac{P(A \\cap B_n)}{P(B_n)} = \\frac{P(B_n | A) * P(A)}{P(B_n | A) * P(A) + P(B_n | \\neg A) * P(\\neg A)} = \\frac{0.9^{n} * 0.5}{0.9^{n} * 0.5 + 0.5^{n} * 0.5} \\geqslant 0.95 $$\n",
    "\n",
    "$$ 0.9^n \\geqslant 0.95 * (0.9^n + 0.5^n) $$\n",
    "\n",
    "$$ \\frac{0.9^n}{20} \\geqslant 0.95 * 0.5^n$$\n",
    "\n",
    "$$ 1.8^n \\geqslant 19 $$\n",
    "\n",
    "$$ n \\geqslant 6 $$"
   ]
  },
  {
   "cell_type": "markdown",
   "metadata": {},
   "source": [
    "# PAM"
   ]
  },
  {
   "cell_type": "markdown",
   "metadata": {},
   "source": [
    "$$ PAM^1 = \n",
    "\\begin{bmatrix} \n",
    "1-3a & a & a & a \\\\\n",
    "a & 1-3a & a & a \\\\\n",
    "a & a & 1-3a & a \\\\\n",
    "a & a & a & 1-3a  \\\\\n",
    "\\end{bmatrix}\n",
    "$$\n",
    "\n",
    "Тогда, исходя из симметрии, \n",
    "\n",
    "$$ PAM^k = \n",
    "\\begin{bmatrix} \n",
    "1-3a_k & a_k & a_k & a_k \\\\\n",
    "a_k & 1-3a_k & a_k & a_k \\\\\n",
    "a_k & a_k & 1-3a_k & a_k \\\\\n",
    "a_k & a_k & a_k & 1-3a_k  \\\\\n",
    "\\end{bmatrix}\n",
    "$$\n",
    "\n",
    "$$ PAM^{k + 1} = PAM^k * PAM ^ 1 \\Rightarrow a_{k+1} = (1 - 3a) * a_k + a(1 - 3a_k) + aa_k + aa_k = a_k(1 - 4a) + a$$\n",
    "\n",
    "$$ a_1 = a$$\n",
    "\n",
    "$$ a_2 = a(1 - 4a) + a = 2a - 4a^2 = \\frac{1}{4} - \\frac{1}{4} + 2a - 4a^2 = \\frac{1}{4}(1 - (1 - 8a +16a^2)) = \\frac{1}{4}(1 - (1 - 4a)^2)$$\n",
    "\n",
    "$$ a_3 = \\frac{1}{4}(1 - (1 - 4a)^2) * (1 - 4a) + a = \\frac{1}{4}(1 - 4a - (1 - 4a)^3 + 4a) = \\frac{1}{4}(1 - (1 - 4a)^3) $$\n",
    "\n",
    "Отсюда видим, что зависимость похожа на $$ a_n = \\frac{1}{4}(1 - (1 - 4a)^n) $$ \n",
    "Докажем это с помощью мат индукции.\n",
    "Пусть $$ a_n = \\frac{1}{4}(1 - (1 - 4a)^n) $$\n",
    "Тогда $$ a_{n + 1} = \\frac{1}{4}(1 - (1 - 4a)^n) * (1 - 4a) + a = \\frac{1}{4}(1 - 4a - (1 - 4a)^{n + 1} + 4a) = \\frac{1}{4}(1 - (1 - 4a)^{n + 1}) $$\n",
    "\n",
    "\n",
    "Значит\n",
    "$$ a_n = \\frac{1}{4}(1 - (1 - 4a)^n) $$\n",
    "\n",
    "$$ 1 - 3a_n = 1 - \\frac{3}{4}(1 - (1 - 4a)^n) = \\frac{3(1 - 4a)^n + 1}{4} $$ \n",
    "\n",
    "$$ PAM^n = \\frac{1}{4} * \\begin{bmatrix} \n",
    "3(1 - 4a)^n + 1 & 1 - (1 - 4a)^n & 1 - (1 - 4a)^n & 1 - (1 - 4a)^n \\\\\n",
    "1 - (1 - 4a)^n & 3(1 - 4a)^n + 1 & 1 - (1 - 4a)^n & 1 - (1 - 4a)^n \\\\\n",
    "1 - (1 - 4a)^n & 1 - (1 - 4a)^n & 3(1 - 4a)^n + 1 & 1 - (1 - 4a)^n \\\\\n",
    "1 - (1 - 4a)^n & 1 - (1 - 4a)^n & 1 - (1 - 4a)^n & 3(1 - 4a)^n + 1  \\\\\n",
    "\\end{bmatrix}\n",
    "$$"
   ]
  },
  {
   "cell_type": "markdown",
   "metadata": {},
   "source": [
    "# Viterbi + FB"
   ]
  },
  {
   "cell_type": "code",
   "execution_count": 17,
   "metadata": {},
   "outputs": [],
   "source": [
    "import numpy as np\n",
    "from collections import namedtuple\n",
    "\n",
    "Probabilities = namedtuple('Probabilities', ('p', 'a11', 'a12', 'a21', 'a22', 'b1', 'b2'))"
   ]
  },
  {
   "cell_type": "code",
   "execution_count": 13,
   "metadata": {},
   "outputs": [],
   "source": [
    "def viterbi(seq, t):\n",
    "    n = len(seq)\n",
    "    d = []\n",
    "    l = t.p * t.b1[seq[0]]\n",
    "    m = (1 - t.p) * t.b2[seq[0]]\n",
    "\n",
    "    for i in range(1, n):\n",
    "        sym = seq[i] \n",
    "        step1 = (l * t.a11 * t.b1[sym] < m * t.a21 * t.b1[sym])\n",
    "        l = m * t.a21 * t.b1[sym] if step1 else l * t.a11 * t.b1[sym]\n",
    "        step2 = (l * t.a12 * t.b2[sym] < m * t.a22 * t.b2[sym])\n",
    "        m = m * t.a22 * t.b2[sym] if step2 else l * t.a12 * t.b2[sym] \n",
    "        d.append((step1, step2))\n",
    "\n",
    "    step = l < m\n",
    "    trail = []\n",
    "    for i in range(n - 1):\n",
    "        trail.append(int(step) + 1)\n",
    "        step = d.pop()[step]\n",
    "    return list(reversed(trail))\n",
    "    "
   ]
  },
  {
   "cell_type": "code",
   "execution_count": 52,
   "metadata": {},
   "outputs": [],
   "source": [
    "def fb(seq, t):\n",
    "    n = len(seq)\n",
    "    a, b = np.zeros((2, n)), np.zeros((2, n))\n",
    "    a[0, 0] = t.p * t.b1[seq[0]]\n",
    "    a[1, 0] = t.p * t.b2[seq[0]]\n",
    "    b[0, n - 1] = 1\n",
    "    b[1, n - 1] = 1\n",
    "    for i in range(1, n):\n",
    "        sym = seq[i]\n",
    "        a1, a2 = a[0, i - 1], a[1, i - 1] \n",
    "        a[0, i] = a1 * t.a11 * t.b1[sym] + a2 * t.a21 * t.b1[sym]\n",
    "        a[1, i] = a1 * t.a12 * t.b2[sym] + a2 * t.a22 * t.b2[sym]\n",
    "        \n",
    "        sym = seq[n - i]\n",
    "        b1, b2 = b[0, n - i], b[1, n - i] \n",
    "        b[0, n - i - 1] = b1 * t.a11 * t.b1[sym] + b2 * t.a12 * t.b2[sym]\n",
    "        b[1, n - i - 1] = b1 * t.a21 * t.b1[sym] + b2 * t.a22 * t.b2[sym]\n",
    "    p1 = [round(a[0, i] * b[0, i] / (a[0, n - 1] + a[1, n - 1]), 3) for i in range(n)]\n",
    "    p2 = [round(a[1, i] * b[1, i] / (a[0, n - 1] + a[1, n - 1]), 3) for i in range(n)]\n",
    "    return p1, p2"
   ]
  },
  {
   "cell_type": "markdown",
   "metadata": {},
   "source": [
    "## Test1"
   ]
  },
  {
   "cell_type": "code",
   "execution_count": 53,
   "metadata": {},
   "outputs": [],
   "source": [
    "sequence = 'OPOPOPOOPPPPPPPPPPOOOOOOOO'\n",
    "\n",
    "# choose first initial hidden state\n",
    "p = 0.5\n",
    "# change hidden state\n",
    "a11 = 0.8\n",
    "a12 = 0.2\n",
    "a22 = 0.8\n",
    "a21 = 0.2\n",
    "\n",
    "# emit in first hidden state\n",
    "b1 = {'O': 0.5, 'P': 0.5}\n",
    "\n",
    "# emit in second hidden state\n",
    "b2 = {'O': 0.1, 'P': 0.9}\n",
    "\n",
    "prob = Probabilities(p, a11, a12, a21, a22, b1, b2)"
   ]
  },
  {
   "cell_type": "code",
   "execution_count": 55,
   "metadata": {},
   "outputs": [
    {
     "name": "stdout",
     "output_type": "stream",
     "text": [
      "Viterbi:\n",
      "[1, 1, 1, 1, 1, 1, 1, 2, 2, 2, 2, 2, 2, 2, 2, 2, 2, 1, 1, 1, 1, 1, 1, 1, 1]\n",
      "FB:\n",
      "[0.86, 0.766, 0.878, 0.779, 0.887, 0.795, 0.911, 0.86, 0.457, 0.273, 0.19, 0.153, 0.139, 0.14, 0.154, 0.193, 0.279, 0.47, 0.889, 0.965, 0.978, 0.981, 0.981, 0.98, 0.974, 0.942]\n",
      "[0.14, 0.234, 0.122, 0.221, 0.113, 0.205, 0.089, 0.14, 0.543, 0.727, 0.81, 0.847, 0.861, 0.86, 0.846, 0.807, 0.721, 0.53, 0.111, 0.035, 0.022, 0.019, 0.019, 0.02, 0.026, 0.058]\n"
     ]
    }
   ],
   "source": [
    "res = viterbi(sequence, prob)\n",
    "trace = fb(sequence, prob)\n",
    "print(\"Viterbi:\")\n",
    "print(res)\n",
    "print('FB:')\n",
    "for v in trace:\n",
    "    print(v)"
   ]
  },
  {
   "cell_type": "markdown",
   "metadata": {},
   "source": [
    "## Test2"
   ]
  },
  {
   "cell_type": "code",
   "execution_count": 56,
   "metadata": {},
   "outputs": [],
   "source": [
    "sequence = 'OPOPOPOOPPPPPPPPPPOOOOOOOO'\n",
    "\n",
    "# choose first initial hidden state\n",
    "p = 0.5\n",
    "# change hidden state\n",
    "a11 = 0.5\n",
    "a12 = 0.5\n",
    "a22 = 0.5\n",
    "a21 = 0.5\n",
    "\n",
    "# emit in first hidden state\n",
    "b1 = {'O': 0.5, 'P': 0.5}\n",
    "\n",
    "# emit in second hidden state\n",
    "b2 = {'O': 0.51, 'P': 0.49}\n",
    "\n",
    "prob = Probabilities(p, a11, a12, a21, a22, b1, b2)"
   ]
  },
  {
   "cell_type": "code",
   "execution_count": 57,
   "metadata": {},
   "outputs": [
    {
     "name": "stdout",
     "output_type": "stream",
     "text": [
      "Viterbi:\n",
      "[2, 2, 2, 2, 2, 2, 2, 1, 1, 1, 1, 1, 1, 1, 1, 1, 1, 1, 1, 1, 1, 1, 1, 1, 1]\n",
      "FB:\n",
      "[0.495, 0.505, 0.495, 0.505, 0.495, 0.505, 0.495, 0.495, 0.505, 0.505, 0.505, 0.505, 0.505, 0.505, 0.505, 0.505, 0.505, 0.505, 0.495, 0.495, 0.495, 0.495, 0.495, 0.495, 0.495, 0.495]\n",
      "[0.505, 0.495, 0.505, 0.495, 0.505, 0.495, 0.505, 0.505, 0.495, 0.495, 0.495, 0.495, 0.495, 0.495, 0.495, 0.495, 0.495, 0.495, 0.505, 0.505, 0.505, 0.505, 0.505, 0.505, 0.505, 0.505]\n"
     ]
    }
   ],
   "source": [
    "res = viterbi(sequence, prob)\n",
    "trace = fb(sequence, prob)\n",
    "print(\"Viterbi:\")\n",
    "print(res)\n",
    "print('FB:')\n",
    "for v in trace:\n",
    "    print(v)"
   ]
  },
  {
   "cell_type": "code",
   "execution_count": null,
   "metadata": {},
   "outputs": [],
   "source": []
  }
 ],
 "metadata": {
  "kernelspec": {
   "display_name": "Python 3",
   "language": "python",
   "name": "python3"
  },
  "language_info": {
   "codemirror_mode": {
    "name": "ipython",
    "version": 3
   },
   "file_extension": ".py",
   "mimetype": "text/x-python",
   "name": "python",
   "nbconvert_exporter": "python",
   "pygments_lexer": "ipython3",
   "version": "3.7.4"
  }
 },
 "nbformat": 4,
 "nbformat_minor": 2
}
