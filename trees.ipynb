{
 "cells": [
  {
   "cell_type": "markdown",
   "metadata": {},
   "source": [
    "# Task1: W(U)PGMA"
   ]
  },
  {
   "cell_type": "code",
   "execution_count": 1,
   "metadata": {},
   "outputs": [],
   "source": [
    "import numpy as np\n",
    "from collections import namedtuple"
   ]
  },
  {
   "cell_type": "code",
   "execution_count": 2,
   "metadata": {},
   "outputs": [],
   "source": [
    "inf = np.inf\n",
    "Node = namedtuple('Node', ('left', 'right', 'distance', 'size'))\n",
    "Leaf = namedtuple('Leaf', ('name', 'size', 'distance'))\n",
    "\n",
    "Cluster = namedtuple('Cluster', ('left', 'right', 'distance'))"
   ]
  },
  {
   "cell_type": "code",
   "execution_count": 3,
   "metadata": {},
   "outputs": [],
   "source": [
    "def wpgma_step(m, verts, weighted=True):\n",
    "    n = len(verts)\n",
    "    \n",
    "    # find min distance\n",
    "    flat_index = np.argmin(m)\n",
    "    i, j = flat_index // n, flat_index % n\n",
    "    distance = m[i, j]\n",
    "    \n",
    "    # recalculate distances\n",
    "    if weighted:\n",
    "        ar = []\n",
    "        for k in range(n):\n",
    "            if k not in (i, j):\n",
    "                ar.append([(m[min(k, i), max(k, i)] + m[min(k, j), max(k, j)]) / 2])\n",
    "    else:\n",
    "        weight_i = verts[i].size\n",
    "        weight_j = verts[j].size\n",
    "        ar = [[(m[min(v, i), max(v, i)] * weight_i + m[min(v, j), max(v, j)] * weight_j) / (weight_i + weight_j)] \n",
    "              for v in range(n) if v not in (i, j)]\n",
    "    \n",
    "    if n > 2:\n",
    "        # remove distances to clustered objects\n",
    "        for axis in (0, 1):\n",
    "            m = np.delete(m, (j, i), axis=axis)\n",
    "\n",
    "        # add distances to the newly formed cluster\n",
    "        m = np.append(m, ar, axis=1)\n",
    "        m = np.append(m, [[inf for _ in range(n - 1)]] , axis=0)\n",
    "       \n",
    "    else: \n",
    "        m = None\n",
    "        \n",
    "    a = verts.pop(i)\n",
    "    b = verts.pop(j - 1)\n",
    "    verts.append(Node(a, b, distance, a.size + b.size))\n",
    "    \n",
    "    return m, verts\n",
    "    "
   ]
  },
  {
   "cell_type": "code",
   "execution_count": 4,
   "metadata": {},
   "outputs": [],
   "source": [
    "def wpgma_to_newick(tree):\n",
    "    if tree.size == 1:\n",
    "        return tree.name, 0\n",
    "    else:\n",
    "        left, l_dist = wpgma_to_newick(tree.left)\n",
    "        right, r_dist = wpgma_to_newick(tree.right)\n",
    "        \n",
    "        return f'({left}:{tree.distance / 2 - l_dist},{right}:{tree.distance / 2 - r_dist})', tree.distance / 2\n",
    "    "
   ]
  },
  {
   "cell_type": "code",
   "execution_count": 5,
   "metadata": {},
   "outputs": [],
   "source": [
    "def wpgma(m, leafs, weighted=True):\n",
    "    verts = [Leaf(v, 1, 0) for v in leafs]\n",
    "    \n",
    "    while m is not None:\n",
    "        m, verts = wpgma_step(m, verts, weighted)\n",
    "    \n",
    "    newick, _ = wpgma_to_newick(verts[0])\n",
    "    return newick\n",
    "    "
   ]
  },
  {
   "cell_type": "markdown",
   "metadata": {},
   "source": [
    "# Task2: NJ"
   ]
  },
  {
   "cell_type": "code",
   "execution_count": 6,
   "metadata": {},
   "outputs": [],
   "source": [
    "def nj_step(m, verts):\n",
    "    n = len(verts)\n",
    "    \n",
    "    if n == 2:\n",
    "        distance = m[0, 1]\n",
    "        return None, [Cluster(verts[0], verts[1], (distance / 2, distance / 2))]\n",
    "    \n",
    "    def mean_dist(i, j):\n",
    "        dist = 0\n",
    "        for k in range(n):\n",
    "            if k not in (i, j):\n",
    "                a = m[min(k, i), max(k, i)]\n",
    "                dist += a if a != inf else 0\n",
    "        return dist / (n - 2)\n",
    "    \n",
    "    d = np.empty((n, n), dtype=np.float32)\n",
    "    d.fill(inf)\n",
    "    \n",
    "    for i in range(n):\n",
    "        for j in range(i, n):\n",
    "            dist = m[i, j]\n",
    "            d[i, j] = dist - mean_dist(i, j) - mean_dist(j, i)\n",
    "            \n",
    "    # find min distance\n",
    "    flat_index = np.argmin(d)\n",
    "    i, j = flat_index // n, flat_index % n\n",
    "    distance = m[i, j]\n",
    "    diff = mean_dist(i, j) - mean_dist(j, i) \n",
    "    \n",
    "    # recalculate distances\n",
    "    ar = []\n",
    "    for k in range(n):\n",
    "        if k not in (i, j):\n",
    "            ar.append([(m[min(k, i), max(k, i)] + m[min(k, j), max(k, j)] - distance) / 2])\n",
    "    \n",
    "\n",
    "    # remove distances to clustered objects\n",
    "    for axis in (0, 1):\n",
    "        m = np.delete(m, (j, i), axis=axis)\n",
    "\n",
    "    # add distances to the newly formed cluster\n",
    "    m = np.append(m, ar, axis=1)\n",
    "    m = np.append(m, [[inf for _ in range(n - 1)]] , axis=0)\n",
    "       \n",
    "    a = verts.pop(i)\n",
    "    b = verts.pop(j - 1)\n",
    "    verts.append(Cluster(a, b, ((distance + diff) / 2, (distance - diff) / 2)))\n",
    "    \n",
    "    return m, verts"
   ]
  },
  {
   "cell_type": "code",
   "execution_count": 7,
   "metadata": {},
   "outputs": [],
   "source": [
    "def nj_to_newick(tree):\n",
    "    if tree.distance is None:\n",
    "        return tree.name\n",
    "    else:\n",
    "        left = nj_to_newick(tree.left)\n",
    "        right = nj_to_newick(tree.right)\n",
    "        l_dist, r_dist = tree.distance\n",
    "        \n",
    "        return f'({left}:{l_dist},{right}:{r_dist})'"
   ]
  },
  {
   "cell_type": "code",
   "execution_count": 8,
   "metadata": {},
   "outputs": [],
   "source": [
    "def nj(m, leafs):\n",
    "    verts = [Leaf(v, 1, None) for v in leafs]\n",
    "    \n",
    "    while m is not None:\n",
    "        m, verts = nj_step(m, verts)\n",
    "\n",
    "    newick = nj_to_newick(verts[0])\n",
    "    return newick"
   ]
  },
  {
   "cell_type": "code",
   "execution_count": null,
   "metadata": {},
   "outputs": [],
   "source": []
  },
  {
   "cell_type": "markdown",
   "metadata": {},
   "source": [
    "## Test 1"
   ]
  },
  {
   "cell_type": "code",
   "execution_count": 9,
   "metadata": {},
   "outputs": [],
   "source": [
    "leafs = ['A', 'B', 'C', 'D']\n",
    "distances = np.array([[inf,  16,  16,  10],\n",
    "                      [inf, inf,   8,   8],\n",
    "                      [inf, inf, inf,   4],\n",
    "                      [inf, inf, inf, inf]], dtype=np.float32)"
   ]
  },
  {
   "cell_type": "markdown",
   "metadata": {},
   "source": [
    "### WPGMA"
   ]
  },
  {
   "cell_type": "code",
   "execution_count": 10,
   "metadata": {},
   "outputs": [
    {
     "data": {
      "text/plain": [
       "'(A:7.25,(B:4.0,(C:2.0,D:2.0):2.0):3.25)'"
      ]
     },
     "execution_count": 10,
     "metadata": {},
     "output_type": "execute_result"
    }
   ],
   "source": [
    "w = wpgma(distances, leafs)\n",
    "w"
   ]
  },
  {
   "cell_type": "markdown",
   "metadata": {},
   "source": [
    "### UPGMA"
   ]
  },
  {
   "cell_type": "code",
   "execution_count": 11,
   "metadata": {},
   "outputs": [
    {
     "data": {
      "text/plain": [
       "'(A:7.0,(B:4.0,(C:2.0,D:2.0):2.0):3.0)'"
      ]
     },
     "execution_count": 11,
     "metadata": {},
     "output_type": "execute_result"
    }
   ],
   "source": [
    "w = wpgma(distances, leafs, weighted=False)\n",
    "w"
   ]
  },
  {
   "cell_type": "markdown",
   "metadata": {},
   "source": [
    "### NJ"
   ]
  },
  {
   "cell_type": "code",
   "execution_count": 12,
   "metadata": {},
   "outputs": [
    {
     "data": {
      "text/plain": [
       "'(A:5.25,(B:5.5,(C:3.5,D:0.5):0.5):5.25)'"
      ]
     },
     "execution_count": 12,
     "metadata": {},
     "output_type": "execute_result"
    }
   ],
   "source": [
    "w = nj(distances, leafs)\n",
    "w"
   ]
  },
  {
   "cell_type": "markdown",
   "metadata": {},
   "source": [
    "## Test 2"
   ]
  },
  {
   "cell_type": "code",
   "execution_count": 13,
   "metadata": {},
   "outputs": [],
   "source": [
    "leafs2 = ['A', 'B', 'C', 'D', 'E', 'F']\n",
    "distances2 = np.array([[inf,   5,   4,   7,   6,   8],\n",
    "                       [inf, inf,   7,  10,   9,  11],\n",
    "                       [inf, inf, inf,   7,   6,   8],\n",
    "                       [inf, inf, inf, inf,   5,   9],\n",
    "                       [inf, inf, inf, inf, inf,   8],\n",
    "                       [inf, inf, inf, inf, inf, inf]], dtype=np.float32)"
   ]
  },
  {
   "cell_type": "markdown",
   "metadata": {},
   "source": [
    "### WPGMA"
   ]
  },
  {
   "cell_type": "code",
   "execution_count": 14,
   "metadata": {},
   "outputs": [
    {
     "data": {
      "text/plain": [
       "'(F:4.5,((D:2.5,E:2.5):1.5,(B:3.0,(A:2.0,C:2.0):1.0):1.0):0.5)'"
      ]
     },
     "execution_count": 14,
     "metadata": {},
     "output_type": "execute_result"
    }
   ],
   "source": [
    "w2 = wpgma(distances2, leafs2)\n",
    "w2"
   ]
  },
  {
   "cell_type": "markdown",
   "metadata": {},
   "source": [
    "### UPGMA"
   ]
  },
  {
   "cell_type": "code",
   "execution_count": 15,
   "metadata": {},
   "outputs": [
    {
     "data": {
      "text/plain": [
       "'(F:4.4,((D:2.5,E:2.5):1.25,(B:3.0,(A:2.0,C:2.0):1.0):0.75):0.6500000000000004)'"
      ]
     },
     "execution_count": 15,
     "metadata": {},
     "output_type": "execute_result"
    }
   ],
   "source": [
    "w2 = wpgma(distances2, leafs2, weighted=False)\n",
    "w2"
   ]
  },
  {
   "cell_type": "markdown",
   "metadata": {},
   "source": [
    "### NJ"
   ]
  },
  {
   "cell_type": "code",
   "execution_count": 16,
   "metadata": {},
   "outputs": [
    {
     "data": {
      "text/plain": [
       "'(F:2.5,((C:2.0,(A:1.0,B:4.0):1.0):1.0,(D:3.0,E:2.0):1.0):2.5)'"
      ]
     },
     "execution_count": 16,
     "metadata": {},
     "output_type": "execute_result"
    }
   ],
   "source": [
    "w2 = nj(distances2, leafs2)\n",
    "w2"
   ]
  }
 ],
 "metadata": {
  "kernelspec": {
   "display_name": "Python 3",
   "language": "python",
   "name": "python3"
  },
  "language_info": {
   "codemirror_mode": {
    "name": "ipython",
    "version": 3
   },
   "file_extension": ".py",
   "mimetype": "text/x-python",
   "name": "python",
   "nbconvert_exporter": "python",
   "pygments_lexer": "ipython3",
   "version": "3.7.0"
  }
 },
 "nbformat": 4,
 "nbformat_minor": 2
}
