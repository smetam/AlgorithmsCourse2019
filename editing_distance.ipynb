{
 "cells": [
  {
   "cell_type": "markdown",
   "metadata": {},
   "source": [
    "## Task 1 Number of alignments"
   ]
  },
  {
   "cell_type": "markdown",
   "metadata": {},
   "source": [
    "Чтобы посчитать общее количество выравниваний двух последовательностей длины n и m (для удобства предположим, что n < m), посчитаем сколько возможно выравниваний при которых будут совпадения/несовпадения k символов. Для этого нужно выбрать k позиций последовательности длины m, на которых произойдут эти совпадения. Это можно сделать $$\\binom{m}{k}$$ способами (это сочетания и не перестановки, так как порядок строго задан исходной последовательностью). Теперь, когда мы определили k позиций, в которых не будет гэпа, надо определить, какие элементы другой последовательности будут им соответствовать. Так как порядок опять фиксирован, надо выбрать какие k символов встанут в эти позиции, ясно что это количество сочетаний - $$\\binom{n}{k}$$\n",
    "То есть количество выравниваний с m - k гэпами будет равно $$\\binom{n}{k}\\binom{m}{k}$$\n",
    "Так как k может быть любым, просуммируем по k $$0 <= k <= min(n, m)$$"
   ]
  },
  {
   "cell_type": "markdown",
   "metadata": {},
   "source": [
    "В итоге получаем количество выравниваний:$$N = \\sum_{k=0}^{n}\\binom{n}{k}\\binom{m}{k}$$\n",
    "Заметим, что выражение под суммой симметрично относительно m и n, а $$\\binom{n}{k} = 0, k > n$$, это значит, что условие n < m больше не необходимо."
   ]
  },
  {
   "cell_type": "markdown",
   "metadata": {},
   "source": [
    "## Task 2 Global alignment"
   ]
  },
  {
   "cell_type": "code",
   "execution_count": 1,
   "metadata": {},
   "outputs": [],
   "source": [
    "import numpy as np\n",
    "from collections import namedtuple"
   ]
  },
  {
   "cell_type": "code",
   "execution_count": 2,
   "metadata": {},
   "outputs": [],
   "source": [
    "Score = namedtuple('Score', ('match', 'mismatch', 'gap'))"
   ]
  },
  {
   "cell_type": "code",
   "execution_count": 3,
   "metadata": {},
   "outputs": [],
   "source": [
    "def solve(N, M, s):\n",
    "    n = len(N)\n",
    "    m = len(M)\n",
    "    d = np.zeros((m + 1, n + 1))\n",
    "    d[0] = np.arange(n + 1) * s.gap\n",
    "    for i in range(m + 1):\n",
    "        d[i][0] = i * s.gap\n",
    "\n",
    "    for i in range(1, m + 1):\n",
    "        for j in range(1, n + 1):\n",
    "            d[i, j] = max(\n",
    "                d[i - 1, j] + s.gap, \n",
    "                d[i, j - 1] + s.gap, \n",
    "                d[i - 1, j - 1] + (s.match if N[j - 1] == M[i - 1] else s.mismatch)\n",
    "            )\n",
    "    return d"
   ]
  },
  {
   "cell_type": "code",
   "execution_count": 4,
   "metadata": {},
   "outputs": [],
   "source": [
    "def construct_alignment(N, M, d, s):\n",
    "    a = ''\n",
    "    b = ''\n",
    "    i, j = len(M), len(N)\n",
    "    while i > 0 and j > 0:\n",
    "        if d[i][j] == d[i - 1][j - 1] + (s.match if N[j - 1] == M[i - 1] else s.mismatch):\n",
    "            a = M[i - 1] + a\n",
    "            b = N[j - 1] + b\n",
    "            i -= 1\n",
    "            j -= 1\n",
    "        elif d[i][j] == d[i][j - 1] + s.gap:\n",
    "            a = '-' + a\n",
    "            b = N[j - 1] + b\n",
    "            j -= 1\n",
    "        else:\n",
    "            a = M[i - 1] + a\n",
    "            b = '-' + b\n",
    "            i -= 1\n",
    "\n",
    "    if j == 0:\n",
    "        a = M[:i] + a\n",
    "        b = '-' * i + b\n",
    "\n",
    "    else:\n",
    "        a = '-' * j + a\n",
    "        b = N[:j] + b\n",
    "    return a, b"
   ]
  },
  {
   "cell_type": "markdown",
   "metadata": {},
   "source": [
    "#### Test 1"
   ]
  },
  {
   "cell_type": "code",
   "execution_count": 5,
   "metadata": {},
   "outputs": [],
   "source": [
    "N = 'TTAGGATCAAT'\n",
    "M = 'AATAGGGCAATT'\n",
    "\n",
    "# Match score\n",
    "match = 1\n",
    "# Gap penalty\n",
    "gap = -1\n",
    "# Mismatch penalty\n",
    "mismatch = -1\n",
    "\n",
    "scores = Score(match, mismatch, gap)"
   ]
  },
  {
   "cell_type": "code",
   "execution_count": 6,
   "metadata": {},
   "outputs": [
    {
     "name": "stdout",
     "output_type": "stream",
     "text": [
      "[[  0.  -1.  -2.  -3.  -4.  -5.  -6.  -7.  -8.  -9. -10. -11.]\n",
      " [ -1.  -1.  -2.  -1.  -2.  -3.  -4.  -5.  -6.  -7.  -8.  -9.]\n",
      " [ -2.  -2.  -2.  -1.  -2.  -3.  -2.  -3.  -4.  -5.  -6.  -7.]\n",
      " [ -3.  -1.  -1.  -2.  -2.  -3.  -3.  -1.  -2.  -3.  -4.  -5.]\n",
      " [ -4.  -2.  -2.   0.  -1.  -2.  -2.  -2.  -2.  -1.  -2.  -3.]\n",
      " [ -5.  -3.  -3.  -1.   1.   0.  -1.  -2.  -3.  -2.  -2.  -3.]\n",
      " [ -6.  -4.  -4.  -2.   0.   2.   1.   0.  -1.  -2.  -3.  -3.]\n",
      " [ -7.  -5.  -5.  -3.  -1.   1.   1.   0.  -1.  -2.  -3.  -4.]\n",
      " [ -8.  -6.  -6.  -4.  -2.   0.   0.   0.   1.   0.  -1.  -2.]\n",
      " [ -9.  -7.  -7.  -5.  -3.  -1.   1.   0.   0.   2.   1.   0.]\n",
      " [-10.  -8.  -8.  -6.  -4.  -2.   0.   0.  -1.   1.   3.   2.]\n",
      " [-11.  -9.  -7.  -7.  -5.  -3.  -1.   1.   0.   0.   2.   4.]\n",
      " [-12. -10.  -8.  -8.  -6.  -4.  -2.   0.   0.  -1.   1.   3.]]\n"
     ]
    }
   ],
   "source": [
    "d = solve(N, M, scores)\n",
    "print(d)"
   ]
  },
  {
   "cell_type": "code",
   "execution_count": 7,
   "metadata": {},
   "outputs": [
    {
     "name": "stdout",
     "output_type": "stream",
     "text": [
      "Выравнивание:\n",
      "AATAGG-GCAATT\n",
      "-TTAGGATCAA-T\n",
      "Вес выравнивания: 3.0\n"
     ]
    }
   ],
   "source": [
    "a, b = construct_alignment(N, M, d, scores)\n",
    "print('Выравнивание:')\n",
    "print(a)\n",
    "print(b)\n",
    "\n",
    "print('Вес выравнивания:', d[-1, -1])"
   ]
  },
  {
   "cell_type": "markdown",
   "metadata": {},
   "source": [
    "#### Test 2"
   ]
  },
  {
   "cell_type": "code",
   "execution_count": 8,
   "metadata": {},
   "outputs": [],
   "source": [
    "N = 'TTAGGCAT'\n",
    "M = 'AATGGCAA'\n",
    "\n",
    "# Match score\n",
    "match = 1\n",
    "# Gap penalty\n",
    "gap = -0.499\n",
    "# Mismatch penalty\n",
    "mismatch = -1\n",
    "\n",
    "scores = Score(match, mismatch, gap)"
   ]
  },
  {
   "cell_type": "code",
   "execution_count": 9,
   "metadata": {},
   "outputs": [
    {
     "name": "stdout",
     "output_type": "stream",
     "text": [
      "[[-0.000e+00 -4.990e-01 -9.980e-01 -1.497e+00 -1.996e+00 -2.495e+00\n",
      "  -2.994e+00 -3.493e+00 -3.992e+00]\n",
      " [-4.990e-01 -9.980e-01 -1.497e+00  2.000e-03 -4.970e-01 -9.960e-01\n",
      "  -1.495e+00 -1.994e+00 -2.493e+00]\n",
      " [-9.980e-01 -1.497e+00 -1.996e+00 -4.970e-01 -9.960e-01 -1.495e+00\n",
      "  -1.994e+00 -4.950e-01 -9.940e-01]\n",
      " [-1.497e+00  2.000e-03 -4.970e-01 -9.960e-01 -1.495e+00 -1.994e+00\n",
      "  -2.493e+00 -9.940e-01  5.050e-01]\n",
      " [-1.996e+00 -4.970e-01 -9.960e-01 -1.495e+00  4.000e-03 -4.950e-01\n",
      "  -9.940e-01 -1.493e+00  6.000e-03]\n",
      " [-2.495e+00 -9.960e-01 -1.495e+00 -1.994e+00 -4.950e-01  1.004e+00\n",
      "   5.050e-01  6.000e-03 -4.930e-01]\n",
      " [-2.994e+00 -1.495e+00 -1.994e+00 -2.493e+00 -9.940e-01  5.050e-01\n",
      "   2.004e+00  1.505e+00  1.006e+00]\n",
      " [-3.493e+00 -1.994e+00 -2.493e+00 -9.940e-01 -1.493e+00  6.000e-03\n",
      "   1.505e+00  3.004e+00  2.505e+00]\n",
      " [-3.992e+00 -2.493e+00 -2.992e+00 -1.493e+00 -1.992e+00 -4.930e-01\n",
      "   1.006e+00  2.505e+00  2.006e+00]]\n"
     ]
    }
   ],
   "source": [
    "d = solve(N, M, scores)\n",
    "print(d)"
   ]
  },
  {
   "cell_type": "code",
   "execution_count": 10,
   "metadata": {},
   "outputs": [
    {
     "name": "stdout",
     "output_type": "stream",
     "text": [
      "Выравнивание:\n",
      "AA-T-GGCAA-\n",
      "--TTAGGC-AT\n",
      "Вес выравнивания: 2.006\n"
     ]
    }
   ],
   "source": [
    "a, b = construct_alignment(N, M, d, scores)\n",
    "print('Выравнивание:')\n",
    "print(a)\n",
    "print(b)\n",
    "\n",
    "print('Вес выравнивания:', d[-1, -1])"
   ]
  },
  {
   "cell_type": "markdown",
   "metadata": {},
   "source": [
    "## Task 3 Alignment with weight matrix"
   ]
  },
  {
   "cell_type": "code",
   "execution_count": 11,
   "metadata": {},
   "outputs": [],
   "source": [
    "import pandas as pd"
   ]
  },
  {
   "cell_type": "code",
   "execution_count": 12,
   "metadata": {},
   "outputs": [],
   "source": [
    "def weight_func(wm):\n",
    "    # wm - weight matrix\n",
    "    def weight(v, w):\n",
    "        if v == '-' or w == '-':\n",
    "            return g\n",
    "        else:\n",
    "            return wm[v][w]\n",
    "    \n",
    "    return weight"
   ]
  },
  {
   "cell_type": "code",
   "execution_count": 13,
   "metadata": {},
   "outputs": [],
   "source": [
    "def solve_wm(N, M, f):\n",
    "    # f - function that returns weights\n",
    "    n = len(N)\n",
    "    m = len(M)\n",
    "    d = np.zeros((m + 1, n + 1))\n",
    "    d[0] = np.arange(n + 1) * f('-', '-')\n",
    "    for i in range(m + 1):\n",
    "        d[i][0] = i * f('-', '-')\n",
    "\n",
    "    for i in range(1, m + 1):\n",
    "        for j in range(1, n + 1):\n",
    "            d[i, j] = max(\n",
    "                d[i - 1, j] + f('-', M[i - 1]), \n",
    "                d[i, j - 1] + f(N[j - 1], '-'), \n",
    "                d[i - 1, j - 1] + f(N[j - 1], M[i - 1])\n",
    "            )\n",
    "    return d"
   ]
  },
  {
   "cell_type": "code",
   "execution_count": 14,
   "metadata": {},
   "outputs": [],
   "source": [
    "def construct_alignment_wm(N, M, d, f):\n",
    "    a = ''\n",
    "    b = ''\n",
    "    i, j = len(M), len(N)\n",
    "    while i > 0 and j > 0:\n",
    "        if d[i][j] == d[i - 1][j - 1] + f(N[j - 1], M[i - 1]):\n",
    "            a = M[i - 1] + a\n",
    "            b = N[j - 1] + b\n",
    "            i -= 1\n",
    "            j -= 1\n",
    "        elif d[i][j] == d[i][j - 1] + f(N[j - 1], '-'):\n",
    "            a = '-' + a\n",
    "            b = N[j - 1] + b\n",
    "            j -= 1\n",
    "        else:\n",
    "            a = M[i - 1] + a\n",
    "            b = '-' + b\n",
    "            i -= 1\n",
    "\n",
    "    if j == 0:\n",
    "        a = M[:i] + a\n",
    "        b = '-' * i + b\n",
    "\n",
    "    else:\n",
    "        a = '-' * j + a\n",
    "        b = N[:j] + b\n",
    "    return a, b"
   ]
  },
  {
   "cell_type": "code",
   "execution_count": 15,
   "metadata": {},
   "outputs": [],
   "source": [
    "N = 'TTAGGATCAAT'\n",
    "M = 'AATAGGGCAATT'\n",
    "\n",
    "# Gap penalty\n",
    "g = -1.\n",
    "# weight matrix\n",
    "wm1 = pd.DataFrame(\n",
    "    {\n",
    "        'A':   [1., -1., -0.5, -1., g], \n",
    "        'T':   [-1., 1., -1., -0.5, g], \n",
    "        'G':   [-0.5, -1., 1., -1., g], \n",
    "        'C':   [-1., -0.5, -1., 1., g],\n",
    "        'gap': [g, g, g, g, g],\n",
    "    }, \n",
    "    index=['A', 'T', 'G', 'C', 'gap']\n",
    ")"
   ]
  },
  {
   "cell_type": "code",
   "execution_count": 16,
   "metadata": {},
   "outputs": [
    {
     "name": "stdout",
     "output_type": "stream",
     "text": [
      "[[ -0.   -1.   -2.   -3.   -4.   -5.   -6.   -7.   -8.   -9.  -10.  -11. ]\n",
      " [ -1.   -1.   -2.   -1.   -2.   -3.   -4.   -5.   -6.   -7.   -8.   -9. ]\n",
      " [ -2.   -2.   -2.   -1.   -1.5  -2.5  -2.   -3.   -4.   -5.   -6.   -7. ]\n",
      " [ -3.   -1.   -1.   -2.   -2.   -2.5  -3.   -1.   -2.   -3.   -4.   -5. ]\n",
      " [ -4.   -2.   -2.    0.   -1.   -2.   -1.5  -2.   -2.   -1.   -2.   -3. ]\n",
      " [ -5.   -3.   -3.   -1.    1.    0.   -1.   -2.   -3.   -2.   -1.5  -2.5]\n",
      " [ -6.   -4.   -4.   -2.    0.    2.    1.    0.   -1.   -2.   -2.5  -2.5]\n",
      " [ -7.   -5.   -5.   -3.   -1.    1.    1.5   0.5  -0.5  -1.5  -2.5  -3.5]\n",
      " [ -8.   -6.   -5.5  -4.   -2.    0.    0.5   1.    1.5   0.5  -0.5  -1.5]\n",
      " [ -9.   -7.   -6.5  -4.5  -3.   -1.    1.    0.    0.5   2.5   1.5   0.5]\n",
      " [-10.   -8.   -7.5  -5.5  -4.   -2.    0.    0.   -0.5   1.5   3.5   2.5]\n",
      " [-11.   -9.   -7.   -6.5  -5.   -3.   -1.    1.    0.    0.5   2.5   4.5]\n",
      " [-12.  -10.   -8.   -7.5  -6.   -4.   -2.    0.    0.5  -0.5   1.5   3.5]]\n",
      "Выравнивание:\n",
      "AATAGGG-CAATT\n",
      "-TTAGGATCAA-T\n",
      "Вес выравнивания: 3.5\n"
     ]
    }
   ],
   "source": [
    "weights1 = weight_func(wm1)\n",
    "d = solve_wm(N, M, weights1)\n",
    "print(d)\n",
    "a, b = construct_alignment_wm(N, M, d, weights1)\n",
    "print('Выравнивание:')\n",
    "print(a)\n",
    "print(b)\n",
    "\n",
    "print('Вес выравнивания:', d[-1, -1])"
   ]
  },
  {
   "cell_type": "code",
   "execution_count": 17,
   "metadata": {},
   "outputs": [],
   "source": [
    "# Gap penalty\n",
    "g = -1.\n",
    "# weight matrix\n",
    "wm2 = pd.DataFrame(\n",
    "    {\n",
    "        'A':   [1., -3., -0.5, -1., g], \n",
    "        'T':   [-3., 1., -1., -0.5, g], \n",
    "        'G':   [-0.5, -1., 1., -1., g], \n",
    "        'C':   [-1., -0.5, -1., 1., g],\n",
    "        'gap': [g, g, g, g, g],\n",
    "    }, \n",
    "    index=['A', 'T', 'G', 'C', 'gap']\n",
    ")"
   ]
  },
  {
   "cell_type": "code",
   "execution_count": 18,
   "metadata": {},
   "outputs": [
    {
     "name": "stdout",
     "output_type": "stream",
     "text": [
      "[[ -0.   -1.   -2.   -3.   -4.   -5.   -6.   -7.   -8.   -9.  -10.  -11. ]\n",
      " [ -1.   -2.   -3.   -1.   -2.   -3.   -4.   -5.   -6.   -7.   -8.   -9. ]\n",
      " [ -2.   -3.   -4.   -2.   -1.5  -2.5  -2.   -3.   -4.   -5.   -6.   -7. ]\n",
      " [ -3.   -1.   -2.   -3.   -2.5  -2.5  -3.   -1.   -2.   -3.   -4.   -5. ]\n",
      " [ -4.   -2.   -3.   -1.   -2.   -3.   -1.5  -2.   -2.   -1.   -2.   -3. ]\n",
      " [ -5.   -3.   -3.   -2.    0.   -1.   -2.   -2.5  -3.   -2.   -1.5  -2.5]\n",
      " [ -6.   -4.   -4.   -3.   -1.    1.    0.   -1.   -2.   -3.   -2.5  -2.5]\n",
      " [ -7.   -5.   -5.   -4.   -2.    0.    0.5  -0.5  -1.5  -2.5  -3.5  -3.5]\n",
      " [ -8.   -6.   -5.5  -5.   -3.   -1.   -0.5   0.    0.5  -0.5  -1.5  -2.5]\n",
      " [ -9.   -7.   -6.5  -4.5  -4.   -2.    0.   -1.   -0.5   1.5   0.5  -0.5]\n",
      " [-10.   -8.   -7.5  -5.5  -5.   -3.   -1.   -2.   -1.5   0.5   2.5   1.5]\n",
      " [-11.   -9.   -7.   -6.5  -6.   -4.   -2.    0.   -1.   -0.5   1.5   3.5]\n",
      " [-12.  -10.   -8.   -7.5  -7.   -5.   -3.   -1.   -0.5  -1.5   0.5   2.5]]\n",
      "Выравнивание:\n",
      "AA-TAGGG-CAATT\n",
      "--TTAGGATCAA-T\n",
      "Вес выравнивания: 2.5\n"
     ]
    }
   ],
   "source": [
    "weights2 = weight_func(wm2)\n",
    "d = solve_wm(N, M, weights2)\n",
    "print(d)\n",
    "a, b = construct_alignment_wm(N, M, d, weights2)\n",
    "print('Выравнивание:')\n",
    "print(a)\n",
    "print(b)\n",
    "\n",
    "print('Вес выравнивания:', d[-1, -1])"
   ]
  },
  {
   "cell_type": "markdown",
   "metadata": {},
   "source": [
    "## Task 4 Local alignment"
   ]
  },
  {
   "cell_type": "code",
   "execution_count": 19,
   "metadata": {},
   "outputs": [],
   "source": [
    "def solve_local(N, M, s):\n",
    "    n = len(N)\n",
    "    m = len(M)\n",
    "    \n",
    "    d = np.zeros((m + 1, n + 1))\n",
    "    d[0] = np.arange(n + 1) * s.gap\n",
    "    for i in range(m + 1):\n",
    "        d[i][0] = i * s.gap\n",
    "\n",
    "    for i in range(1, m + 1):\n",
    "        for j in range(1, n + 1):\n",
    "            d[i, j] = max(\n",
    "                0,\n",
    "                d[i - 1, j] + s.gap, \n",
    "                d[i, j - 1] + s.gap, \n",
    "                d[i - 1, j - 1] + (s.match if N[j - 1] == M[i - 1] else s.mismatch)\n",
    "            )\n",
    "    return d"
   ]
  },
  {
   "cell_type": "code",
   "execution_count": 20,
   "metadata": {},
   "outputs": [],
   "source": [
    "def construct_local_alignment(N, M, d, s):\n",
    "    a = ''\n",
    "    b = ''\n",
    "    i, j = np.unravel_index(np.argmax(d, axis=None), d.shape)\n",
    "    while i > 0 and j > 0:\n",
    "        if d[i][j] == 0:\n",
    "            return a, b\n",
    "        if d[i][j] == d[i - 1][j - 1] + (s.match if N[j - 1] == M[i - 1] else s.mismatch):\n",
    "            a = M[i - 1] + a\n",
    "            b = N[j - 1] + b\n",
    "            i -= 1\n",
    "            j -= 1\n",
    "        elif d[i][j] == d[i][j - 1] + s.gap:\n",
    "            a = '-' + a\n",
    "            b = N[j - 1] + b\n",
    "            j -= 1\n",
    "        else:\n",
    "            a = M[i - 1] + a\n",
    "            b = '-' + b\n",
    "            i -= 1\n",
    "\n",
    "    if j == 0:\n",
    "        a = M[:i] + a\n",
    "        b = '-' * i + b\n",
    "\n",
    "    else:\n",
    "        a = '-' * j + a\n",
    "        b = N[:j] + b\n",
    "    return a, b"
   ]
  },
  {
   "cell_type": "code",
   "execution_count": 21,
   "metadata": {},
   "outputs": [],
   "source": [
    "N = 'TTAGGATCAAT'\n",
    "M = 'AATAGGGCAATT'\n",
    "\n",
    "# Match score\n",
    "match = 1\n",
    "# Gap penalty\n",
    "gap = -1\n",
    "# Mismatch penalty\n",
    "mismatch = -1\n",
    "\n",
    "scores = Score(match, mismatch, gap)"
   ]
  },
  {
   "cell_type": "code",
   "execution_count": 22,
   "metadata": {},
   "outputs": [
    {
     "name": "stdout",
     "output_type": "stream",
     "text": [
      "[[  0.  -1.  -2.  -3.  -4.  -5.  -6.  -7.  -8.  -9. -10. -11.]\n",
      " [ -1.   0.   0.   0.   0.   0.   0.   0.   0.   0.   0.   0.]\n",
      " [ -2.   0.   0.   1.   0.   0.   1.   0.   0.   1.   1.   0.]\n",
      " [ -3.   0.   1.   0.   0.   0.   0.   2.   1.   0.   0.   2.]\n",
      " [ -4.   0.   0.   2.   1.   0.   1.   1.   1.   2.   1.   1.]\n",
      " [ -5.   0.   0.   1.   3.   2.   1.   0.   0.   1.   1.   0.]\n",
      " [ -6.   0.   0.   0.   2.   4.   3.   2.   1.   0.   0.   0.]\n",
      " [ -7.   0.   0.   0.   1.   3.   3.   2.   1.   0.   0.   0.]\n",
      " [ -8.   0.   0.   0.   0.   2.   2.   2.   3.   2.   1.   0.]\n",
      " [ -9.   0.   0.   1.   0.   1.   3.   2.   2.   4.   3.   2.]\n",
      " [-10.   0.   0.   1.   0.   0.   2.   2.   1.   3.   5.   4.]\n",
      " [-11.   0.   1.   0.   0.   0.   1.   3.   2.   2.   4.   6.]\n",
      " [-12.   0.   1.   0.   0.   0.   0.   2.   2.   1.   3.   5.]]\n",
      "Выравнивание:\n",
      "TAGG-GCAAT\n",
      "TAGGATCAAT\n",
      "Вес выравнивания: 6.0\n"
     ]
    }
   ],
   "source": [
    "d = solve_local(N, M, scores)\n",
    "print(d)\n",
    "a, b = construct_local_alignment(N, M, d, scores)\n",
    "print('Выравнивание:')\n",
    "print(a)\n",
    "print(b)\n",
    "\n",
    "print('Вес выравнивания:', np.max(d, axis=None))"
   ]
  },
  {
   "cell_type": "markdown",
   "metadata": {},
   "source": [
    "#### Test 1"
   ]
  },
  {
   "cell_type": "code",
   "execution_count": 23,
   "metadata": {},
   "outputs": [
    {
     "name": "stdout",
     "output_type": "stream",
     "text": [
      "Локальное выравнивание:\n",
      "CAGTTATGTCAG\n",
      "CAGTTATGTCAG\n",
      "Глобальное выравнивание:\n",
      "---T-CC-CAGT--TATGTCAGGGGACACGAGCATG-CAGAGAC\n",
      "AATTGCCGCCGTCGT-TTTCA---G-CA-G-TTATGTCAGA-TC\n",
      "Выравнивания различаются на локальном участке\n"
     ]
    }
   ],
   "source": [
    "M = 'TCCCAGTTATGTCAGGGGACACGAGCATGCAGAGAC'\n",
    "N = 'AATTGCCGCCGTCGTTTTCAGCAGTTATGTCAGATC'\n",
    "\n",
    "\n",
    "match = 1\n",
    "gap = -1\n",
    "mismatch = -1\n",
    "scores = Score(match, mismatch, gap)\n",
    "\n",
    "d_local = solve_local(N, M, scores)\n",
    "a_local, b_local = construct_local_alignment(N, M, d_local, scores)\n",
    "print('Локальное выравнивание:')\n",
    "print(a_local)\n",
    "print(b_local)\n",
    "d = solve(N, M, scores)\n",
    "a, b = construct_alignment(N, M, d, scores)\n",
    "print('Глобальное выравнивание:')\n",
    "print(a)\n",
    "print(b)\n",
    "print('Выравнивания различаются на локальном участке')"
   ]
  },
  {
   "cell_type": "markdown",
   "metadata": {},
   "source": [
    "## Task 5 Affine gap alignment"
   ]
  },
  {
   "cell_type": "code",
   "execution_count": 24,
   "metadata": {},
   "outputs": [],
   "source": [
    "def solve_ag(N, M, s):\n",
    "    n = len(N)\n",
    "    m = len(M)\n",
    "    \n",
    "    # deletion (upper) layer (vertical movement) \n",
    "    v = np.zeros((m + 1, n + 1))\n",
    "    v[0] = np.ones(n + 1) * (manhattan_scores.gap + manhattan_scores.open_gap) * 100\n",
    "    for i in range(m + 1):\n",
    "        v[i][0] = i * manhattan_scores.gap + manhattan_scores.open_gap\n",
    "        \n",
    "    # substitution middle layer (dioganal movement) \n",
    "    d = np.zeros((m + 1, n + 1))\n",
    "    d[0] = np.arange(n + 1) * manhattan_scores.gap + manhattan_scores.open_gap\n",
    "    for i in range(m + 1):\n",
    "        d[i][0] = i * manhattan_scores.gap + manhattan_scores.open_gap\n",
    "        \n",
    "    # insertion (lower) layer (horizontal movement)\n",
    "    h = np.zeros((m + 1, n + 1))\n",
    "    h[0] = np.arange(n + 1) * manhattan_scores.gap + manhattan_scores.open_gap\n",
    "    for i in range(m + 1):\n",
    "        h[i][0] = (manhattan_scores.gap + manhattan_scores.open_gap) * 100\n",
    "        \n",
    "    for i in range(1, m + 1):\n",
    "        for j in range(1, n + 1):\n",
    "            v[i, j] = max(\n",
    "                v[i - 1, j] + s.gap,\n",
    "                d[i - 1, j] + s.open_gap + s.gap\n",
    "            )\n",
    "            h[i, j] = max(\n",
    "                h[i, j - 1] + s.gap,\n",
    "                d[i, j - 1] + s.open_gap + s.gap\n",
    "            )\n",
    "            d[i, j] = max(\n",
    "                v[i, j], \n",
    "                h[i, j], \n",
    "                d[i - 1, j - 1] + (s.match if N[j - 1] == M[i - 1] else s.mismatch)\n",
    "            )\n",
    "    return d, v, h"
   ]
  },
  {
   "cell_type": "code",
   "execution_count": 25,
   "metadata": {},
   "outputs": [],
   "source": [
    "def construct_alignment_ag(N, M, tables, s):\n",
    "    a = ''\n",
    "    b = ''\n",
    "    i, j = len(M), len(N)\n",
    "    d, v, h = tables\n",
    "    while i > 0 and j > 0:\n",
    "        if d[i][j] == d[i - 1][j - 1] + (s.match if N[j - 1] == M[i - 1] else s.mismatch):\n",
    "            a = M[i - 1] + a\n",
    "            b = N[j - 1] + b\n",
    "            i -= 1\n",
    "            j -= 1\n",
    "        elif d[i][j] == h[i][j]:\n",
    "            a = '-' + a\n",
    "            b = N[j - 1] + b\n",
    "            j -= 1\n",
    "        else:\n",
    "            a = M[i - 1] + a\n",
    "            b = '-' + b\n",
    "            i -= 1\n",
    "\n",
    "    if j == 0:\n",
    "        a = M[:i] + a\n",
    "        b = '-' * i + b\n",
    "\n",
    "    else:\n",
    "        a = '-' * j + a\n",
    "        b = N[:j] + b\n",
    "    return a, b"
   ]
  },
  {
   "cell_type": "code",
   "execution_count": 26,
   "metadata": {},
   "outputs": [
    {
     "name": "stdout",
     "output_type": "stream",
     "text": [
      "[[  0.  -1.  -2.  -3.  -4.  -5.  -6.  -7.  -8.  -9. -10. -11.]\n",
      " [ -1.  -1.  -2.  -1.  -2.  -3.  -4.  -5.  -6.  -7.  -8.  -9.]\n",
      " [ -2.  -2.  -2.  -1.  -2.  -3.  -2.  -3.  -4.  -5.  -6.  -7.]\n",
      " [ -3.  -1.  -1.  -2.  -2.  -3.  -3.  -1.  -2.  -3.  -4.  -5.]\n",
      " [ -4.  -2.  -2.   0.  -1.  -2.  -2.  -2.  -2.  -1.  -2.  -3.]\n",
      " [ -5.  -3.  -3.  -1.   1.   0.  -1.  -2.  -3.  -2.  -2.  -3.]\n",
      " [ -6.  -4.  -4.  -2.   0.   2.   1.   0.  -1.  -2.  -3.  -3.]\n",
      " [ -7.  -5.  -5.  -3.  -1.   1.   1.   0.  -1.  -2.  -3.  -4.]\n",
      " [ -8.  -6.  -6.  -4.  -2.   0.   0.   0.   1.   0.  -1.  -2.]\n",
      " [ -9.  -7.  -7.  -5.  -3.  -1.   1.   0.   0.   2.   1.   0.]\n",
      " [-10.  -8.  -8.  -6.  -4.  -2.   0.   0.  -1.   1.   3.   2.]\n",
      " [-11.  -9.  -7.  -7.  -5.  -3.  -1.   1.   0.   0.   2.   4.]\n",
      " [-12. -10.  -8.  -8.  -6.  -4.  -2.   0.   0.  -1.   1.   3.]]\n"
     ]
    }
   ],
   "source": [
    "Mscores = namedtuple('Mscores', ('match', 'mismatch', 'open_gap', 'gap'))\n",
    "manhattan_scores = Mscores(1, -1, 0, -1)\n",
    "\n",
    "N = 'TTAGGATCAAT'\n",
    "M = 'AATAGGGCAATT'\n",
    "\n",
    "d, v, h = solve_ag(N, M, manhattan_scores)\n",
    "print(d)"
   ]
  },
  {
   "cell_type": "code",
   "execution_count": 27,
   "metadata": {},
   "outputs": [
    {
     "name": "stdout",
     "output_type": "stream",
     "text": [
      "AATAGG-GCAATT\n",
      "-TTAGGATCAA-T\n"
     ]
    }
   ],
   "source": [
    "tables = d, v, h\n",
    "a, b = construct_alignment_ag(N, M, tables, manhattan_scores)\n",
    "print(a)\n",
    "print(b)"
   ]
  },
  {
   "cell_type": "markdown",
   "metadata": {},
   "source": [
    "#### Test 1"
   ]
  },
  {
   "cell_type": "code",
   "execution_count": 28,
   "metadata": {},
   "outputs": [
    {
     "name": "stdout",
     "output_type": "stream",
     "text": [
      "[[  0.  -1.  -2. ... -34. -35. -36.]\n",
      " [ -1.  -1.  -2. ... -32. -33. -34.]\n",
      " [ -2.  -2.  -2. ... -30. -31. -32.]\n",
      " ...\n",
      " [-34. -32. -30. ...   2.   2.   1.]\n",
      " [-35. -33. -31. ...   1.   1.   1.]\n",
      " [-36. -34. -32. ...   0.   0.   2.]]\n",
      "---T-CC-CAGT--TATGTCAGGGGACACGAGCATG-CAGAGAC\n",
      "AATTGCCGCCGTCGT-TTTCA---G-CA-G-TTATGTCAGA-TC\n"
     ]
    }
   ],
   "source": [
    "M = 'TCCCAGTTATGTCAGGGGACACGAGCATGCAGAGAC'\n",
    "N = 'AATTGCCGCCGTCGTTTTCAGCAGTTATGTCAGATC'\n",
    "\n",
    "# match, mismatch, open gap, continue gap\n",
    "manhattan_scores = Mscores(1, -1, 0, -1)\n",
    "d, v, h = solve_ag(N, M, manhattan_scores)\n",
    "print(d)\n",
    "tables = d, v, h\n",
    "a, b = construct_alignment_ag(N, M, tables, manhattan_scores)\n",
    "print(a)\n",
    "print(b)"
   ]
  },
  {
   "cell_type": "markdown",
   "metadata": {},
   "source": [
    "#### Test 2"
   ]
  },
  {
   "cell_type": "code",
   "execution_count": 29,
   "metadata": {},
   "outputs": [
    {
     "name": "stdout",
     "output_type": "stream",
     "text": [
      "[[-100.   -100.01 -100.02 ... -100.34 -100.35 -100.36]\n",
      " [-100.01 -101.   -101.01 ... -101.33  -99.34 -101.35]\n",
      " [-100.02 -101.01 -102.   ... -102.32 -102.33  -98.34]\n",
      " ...\n",
      " [-100.34 -101.33 -100.32 ... -120.   -122.01 -120.02]\n",
      " [-100.35  -99.34 -100.33 ... -116.01 -121.   -123.01]\n",
      " [-100.36 -101.35 -100.34 ... -128.02 -117.01 -120.  ]]\n",
      "TCCCAGTTATGTCAGGGGACACGAGCATGCAGAGAC\n",
      "AATTGCCGCCGTCGTTTTCAGCAGTTATGTCAGATC\n"
     ]
    }
   ],
   "source": [
    "M = 'TCCCAGTTATGTCAGGGGACACGAGCATGCAGAGAC'\n",
    "N = 'AATTGCCGCCGTCGTTTTCAGCAGTTATGTCAGATC'\n",
    "\n",
    "# match, mismatch, open gap, continue gap\n",
    "manhattan_scores = Mscores(1, -1, -100, -0.01)\n",
    "d, v, h = solve_ag(N, M, manhattan_scores)\n",
    "print(d)\n",
    "tables = d, v, h\n",
    "a, b = construct_alignment_ag(N, M, tables, manhattan_scores)\n",
    "print(a)\n",
    "print(b)"
   ]
  },
  {
   "cell_type": "markdown",
   "metadata": {},
   "source": [
    "#### Test 3"
   ]
  },
  {
   "cell_type": "code",
   "execution_count": 30,
   "metadata": {},
   "outputs": [
    {
     "name": "stdout",
     "output_type": "stream",
     "text": [
      "[[  0.5   0.2  -0.1 ...  -9.7 -10.  -10.3]\n",
      " [  0.2  19.7  19.9 ...  26.3  26.5  26.7]\n",
      " [ -0.1  19.9  20.1 ...  27.1  27.3  27.5]\n",
      " ...\n",
      " [ -9.7  26.3  27.1 ...  45.5  45.7  45.9]\n",
      " [-10.   26.5  27.3 ...  45.7  45.9  46.1]\n",
      " [-10.3  26.7  27.5 ...  45.9  46.1  46.9]]\n",
      "T-----CC-CA-GT--TATG-TCAGGGGACACGAGC--ATG-CAGAGA-C\n",
      "-AATTGCCGC-CGTCGT-T-TTCA---G---C-AG-TTATGTC--AGATC\n"
     ]
    }
   ],
   "source": [
    "M = 'TCCCAGTTATGTCAGGGGACACGAGCATGCAGAGAC'\n",
    "N = 'AATTGCCGCCGTCGTTTTCAGCAGTTATGTCAGATC'\n",
    "\n",
    "# match, mismatch, open gap, continue gap\n",
    "manhattan_scores = Mscores(1, -1, 0.5, -0.3)\n",
    "d, v, h = solve_ag(N, M, manhattan_scores)\n",
    "print(d)\n",
    "tables = d, v, h\n",
    "a, b = construct_alignment_ag(N, M, tables, manhattan_scores)\n",
    "print(a)\n",
    "print(b)"
   ]
  },
  {
   "cell_type": "code",
   "execution_count": null,
   "metadata": {},
   "outputs": [],
   "source": []
  }
 ],
 "metadata": {
  "kernelspec": {
   "display_name": "Python 3",
   "language": "python",
   "name": "python3"
  },
  "language_info": {
   "codemirror_mode": {
    "name": "ipython",
    "version": 3
   },
   "file_extension": ".py",
   "mimetype": "text/x-python",
   "name": "python",
   "nbconvert_exporter": "python",
   "pygments_lexer": "ipython3",
   "version": "3.6.8"
  }
 },
 "nbformat": 4,
 "nbformat_minor": 2
}
